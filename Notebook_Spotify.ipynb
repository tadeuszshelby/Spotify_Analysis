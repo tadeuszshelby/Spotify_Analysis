{
 "cells": [
  {
   "cell_type": "code",
   "execution_count": 6,
   "metadata": {},
   "outputs": [],
   "source": [
    "import json\n",
    "import Creds\n",
    "import pandas as pd\n",
    "import csv\n",
    "import spotipy\n",
    "from spotipy.oauth2 import SpotifyOAuth\n",
    "import matplotlib.pyplot as plt\n",
    "from math import pi\n",
    "import numpy as np"
   ]
  },
  {
   "cell_type": "code",
   "execution_count": 7,
   "metadata": {},
   "outputs": [
    {
     "name": "stdout",
     "output_type": "stream",
     "text": [
      "We log in\n"
     ]
    }
   ],
   "source": [
    "sp = spotipy.Spotify(auth_manager=SpotifyOAuth(client_id=f\"{Creds.spotify_client_id}\",\n",
    "                                               client_secret=f\"{Creds.spotify_client_secret}\",\n",
    "                                               redirect_uri=f\"{Creds.spotify_redirect_uri}\",\n",
    "                                               scope=\"user-library-read\"))\n",
    "print(\"We log in\")"
   ]
  },
  {
   "cell_type": "code",
   "execution_count": 8,
   "metadata": {},
   "outputs": [],
   "source": [
    "# --- VARIABLES\n",
    "# spotify_username01 = Creds.spotify_username\n",
    "# spotify_playlist_id01 = Creds.spotify_playlist_id\n",
    "\n",
    "spotify_client_id = Creds.spotify_client_id\n",
    "spotify_client_secret = Creds.spotify_client_secret\n",
    "spotify_redirect_uri = Creds.spotify_redirect_uri\n",
    "spotify_username = Creds.spotify_username\n",
    "spotify_playlist_id = Creds.spotify_playlist_id\n",
    "lastfm_api_key = Creds.lastfm_api_key\n",
    "lastfm_api_secret = Creds.lastfm_api_secret\n",
    "lastfm_username = Creds.lastfm_username\n",
    "lastfm_password = Creds.lastfm_password\n",
    "\n",
    "# Use the variables as needed\n",
    "# print(\"Spotify Client ID:\", spotify_client_id)\n",
    "# print(\"Spotify Client Secret:\", spotify_client_secret)\n",
    "# print(\"Spotify Redirect URI:\", spotify_redirect_uri)\n",
    "# print(\"Spotify Username:\", spotify_username)\n",
    "# print(\"Spotify Playlist ID:\", spotify_playlist_id)\n",
    "# print(\"Last.fm API Key:\", lastfm_api_key)\n",
    "# print(\"Last.fm API Secret:\", lastfm_api_secret)\n",
    "# print(\"Last.fm Username:\", lastfm_username)\n",
    "# print(\"Last.fm Password:\", lastfm_password)"
   ]
  },
  {
   "cell_type": "code",
   "execution_count": 9,
   "metadata": {},
   "outputs": [
    {
     "name": "stdout",
     "output_type": "stream",
     "text": [
      "display_name: Tadeusz Shelby\n",
      "profil_link: https://open.spotify.com/user/g387l3b6jsi59udpw3blrk8te\n",
      "followers: 0\n",
      "profil_img: https://i.scdn.co/image/ab6775700000ee850463bda94db6d77ce22115d1\n",
      "type: user\n"
     ]
    }
   ],
   "source": [
    "print(\"display_name:\", sp.current_user()['display_name'])\n",
    "print(\"profil_link:\", sp.current_user()['external_urls']['spotify'])\n",
    "print(\"followers:\", sp.current_user()['followers']['total'])\n",
    "print(\"profil_img:\", sp.current_user()['images'][0]['url'])\n",
    "print(\"type:\", sp.current_user()['type'])"
   ]
  },
  {
   "cell_type": "code",
   "execution_count": null,
   "metadata": {},
   "outputs": [],
   "source": [
    "# --- INFO ABOUT USERNAME\n",
    "#print(json.dumps(sp.current_user(), indent=2))"
   ]
  },
  {
   "cell_type": "code",
   "execution_count": 10,
   "metadata": {},
   "outputs": [
    {
     "name": "stdout",
     "output_type": "stream",
     "text": [
      "id_playlist: 2inURhvmWfajS2lRKxXXDq\n",
      "name_playlist: 05/23\n",
      "songs_playlist: 20\n",
      "mosaic_playlist: https://mosaic.scdn.co/640/ab67616d0000b27345c2f6af748f3d9247d28363ab67616d0000b2734c79d5ec52a6d0302f3add25ab67616d0000b27394a1d552cc9f23e93f68bb2fab67616d0000b273ab647295c0c97446c1f1a3b5\n",
      "link_playlist: https://open.spotify.com/playlist/2inURhvmWfajS2lRKxXXDq\n"
     ]
    }
   ],
   "source": [
    "print(\"id_playlist:\", sp.user_playlists(spotify_username)['items'][1]['id'])\n",
    "print(\"name_playlist:\", sp.user_playlists(spotify_username)['items'][1]['name'])\n",
    "print(\"songs_playlist:\", sp.user_playlists(spotify_username)['items'][1]['tracks']['total'])\n",
    "print(\"mosaic_playlist:\", sp.user_playlists(spotify_username)['items'][1]['images'][0]['url'])\n",
    "print(\"link_playlist:\", sp.user_playlists(spotify_username)['items'][1]['external_urls']['spotify'])"
   ]
  },
  {
   "cell_type": "code",
   "execution_count": null,
   "metadata": {},
   "outputs": [],
   "source": [
    "# --- THIS FILE IS SO LONG. IF YOU WANT TO SEE THAT UNCOMMENT THIS, BUT NEVER PUSH TO REPO\n",
    "# --- RECENTLY PLAYED MUSIC \n",
    "#print(sp.current_user_recently_played(limit=1))\n",
    "\n",
    "# --- SAVED ALBUMS\n",
    "#print(sp.current_user_saved_albums(limit=1, offset=0, market=None))\n",
    "\n",
    "# --- CURRENT USER PLAYLIST\n",
    "#print(sp.current_user_playlists(limit=1))\n",
    "#print(json.dumps(sp.playlist_tracks(playlist_id, limit=2), indent=2))"
   ]
  },
  {
   "cell_type": "code",
   "execution_count": 11,
   "metadata": {},
   "outputs": [
    {
     "name": "stdout",
     "output_type": "stream",
     "text": [
      "Date of added music: 2022-06-25T15:26:08Z\n",
      "ID username who added: g387l3b6jsi59udpw3blrk8te\n",
      "Name of artist: Dawid Podsiadło\n",
      "Id of artist: 6EB8VE9f7Ut6NOgviN6gDW\n",
      "Link to artist: https://open.spotify.com/artist/6EB8VE9f7Ut6NOgviN6gDW\n",
      "Name of song: POST\n",
      "Release date: 2022-06-24\n",
      "Image URL: https://i.scdn.co/image/ab67616d0000b2733e9372b055277fb02753ace9\n",
      "Duration ms: 171055\n",
      "Popularity: 48\n"
     ]
    }
   ],
   "source": [
    "print(\"Date of added music:\", sp.playlist_tracks(spotify_playlist_id, limit=1)['items'][0]['added_at'])\n",
    "print(\"ID username who added:\", sp.playlist_tracks(spotify_playlist_id, limit=1)['items'][0]['added_by']['id'])\n",
    "print(\"Name of artist:\", sp.playlist_tracks(spotify_playlist_id, limit=1)['items'][0]['track']['album']['artists'][0]['name'])\n",
    "print(\"Id of artist:\", sp.playlist_tracks(spotify_playlist_id, limit=1)['items'][0]['track']['album']['artists'][0]['id'])\n",
    "print(\"Link to artist:\", sp.playlist_tracks(spotify_playlist_id, limit=1)['items'][0]['track']['album']['artists'][0]['external_urls']['spotify'])\n",
    "print(\"Name of song:\", sp.playlist_tracks(spotify_playlist_id, limit=1)['items'][0]['track']['album']['name'])\n",
    "print(\"Release date:\", sp.playlist_tracks(spotify_playlist_id, limit=1)['items'][0]['track']['album']['release_date'])\n",
    "print(\"Image URL:\", sp.playlist_tracks(spotify_playlist_id, limit=1)['items'][0]['track']['album']['images'][0]['url'])\n",
    "print(\"Duration ms:\", sp.playlist_tracks(spotify_playlist_id, limit=1)['items'][0]['track']['duration_ms'])\n",
    "print(\"Popularity:\", sp.playlist_tracks(spotify_playlist_id, limit=1)['items'][0]['track']['popularity'])\n",
    "\n",
    "#print(\"Some text:\", sp.playlist_tracks(spotify_playlist_id, limit=1)['items'][0]['track']['album']['release_date'])"
   ]
  },
  {
   "cell_type": "code",
   "execution_count": 1,
   "metadata": {},
   "outputs": [
    {
     "name": "stdout",
     "output_type": "stream",
     "text": [
      "Only for push repo\n"
     ]
    }
   ],
   "source": [
    "print(\"Only for push repo\")"
   ]
  }
 ],
 "metadata": {
  "kernelspec": {
   "display_name": "01_Spotify_Analysis",
   "language": "python",
   "name": "python3"
  },
  "language_info": {
   "codemirror_mode": {
    "name": "ipython",
    "version": 3
   },
   "file_extension": ".py",
   "mimetype": "text/x-python",
   "name": "python",
   "nbconvert_exporter": "python",
   "pygments_lexer": "ipython3",
   "version": "3.9.12"
  },
  "orig_nbformat": 4
 },
 "nbformat": 4,
 "nbformat_minor": 2
}
