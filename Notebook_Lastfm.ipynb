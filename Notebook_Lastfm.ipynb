{
 "cells": [
  {
   "cell_type": "code",
   "execution_count": 1,
   "metadata": {},
   "outputs": [],
   "source": [
    "import json\n",
    "import Creds\n",
    "import requests\n",
    "import pandas as pd\n",
    "import datetime\n",
    "import time\n",
    "import pytz\n",
    "import csv"
   ]
  },
  {
   "cell_type": "code",
   "execution_count": 2,
   "metadata": {},
   "outputs": [
    {
     "name": "stdout",
     "output_type": "stream",
     "text": [
      "If all informations show up that means we can go further\n"
     ]
    }
   ],
   "source": [
    "last_key = Creds.lastfm_api_key\n",
    "last_username = Creds.lastfm_username\n",
    "last_application_name = Creds.lastfm_application_name\n",
    "last_shared_secret = Creds.lastfm_api_secret\n",
    "last_registered_to = Creds.lastfm_username\n",
    "\n",
    "# --- USE VARIAVLES AS NEEDED\n",
    "# print(\"Last FM key:\", last_key )\n",
    "# print(\"Last FM usernamet:\", last_username)\n",
    "# print(\"Last FM application name:\", last_application_name)\n",
    "# print(\"Last FM shared secret:\", last_shared_secret)\n",
    "# print(\"Last FM registered to:\", last_registered_to)\n",
    "print(\"If all informations show up that means we can go further\")"
   ]
  },
  {
   "cell_type": "code",
   "execution_count": null,
   "metadata": {},
   "outputs": [],
   "source": [
    "url =f\"http://ws.audioscrobbler.com/2.0/?method=artist.getinfo&artist=Cher&api_key={last_key}&format=json\"\n",
    "r = requests.get(url)\n",
    "#STATUS\n",
    "#print(\"status:\", r)\n",
    "data = json.loads(r.text)\n",
    "#print(json.dumps(data, indent=2))"
   ]
  },
  {
   "cell_type": "code",
   "execution_count": null,
   "metadata": {},
   "outputs": [],
   "source": [
    "# --- GENERATE TOKEN IN LAST FM\n",
    "token_url = f\"http://ws.audioscrobbler.com/2.0/?method=auth.gettoken&api_key={last_key}&format=json\"\n",
    "\n",
    "r = requests.get(token_url)\n",
    "data_token = json.loads(r.text)\n",
    "#print(json.dumps(data_token, indent=2))\n",
    "#print(data_token['token'])"
   ]
  },
  {
   "cell_type": "code",
   "execution_count": null,
   "metadata": {},
   "outputs": [],
   "source": [
    "# --- GENERATE TOP ARTISTS FROM LAST FM \n",
    "top_artist = f\"http://ws.audioscrobbler.com/2.0/?method=chart.gettopartists&api_key={last_key}&format=json\"\n",
    "\n",
    "r = requests.get(top_artist)\n",
    "#print(\"status:\", r)\n",
    "data_top_artists = json.loads(r.text)\n",
    "#FIRST ARTIST FROM TOP\n",
    "#print(json.dumps(data_top_artists['artists']['artist'][0], indent=2))"
   ]
  },
  {
   "cell_type": "code",
   "execution_count": 3,
   "metadata": {},
   "outputs": [
    {
     "name": "stdout",
     "output_type": "stream",
     "text": [
      "Number of tracks: 3950\n",
      "User of tracks: tadeuszshelby\n",
      "Total pages: 20\n",
      "Per page: 200\n"
     ]
    }
   ],
   "source": [
    "# --- SET PARAMETERS \n",
    "limit = 200\n",
    "page = 1\n",
    "\n",
    "# --- HOW MANY TRACKS WAS SCROBBLED IN YOUR LAST FM \n",
    "recently_music = f\"http://ws.audioscrobbler.com/2.0/?method=user.getrecenttracks&user=rj&api_key={last_key}&format=json&user={last_username}&limit={limit}&page={page}\"\n",
    "r = requests.get(recently_music)\n",
    "data_recently_music = json.loads(r.text)\n",
    "\n",
    "number_tracks = data_recently_music['recenttracks']['@attr']['total']\n",
    "user_tracks = data_recently_music['recenttracks']['@attr']['user']\n",
    "total_pages = data_recently_music['recenttracks']['@attr']['totalPages']\n",
    "per_pages = data_recently_music['recenttracks']['@attr']['perPage']\n",
    "number_elements = len(data_recently_music['recenttracks']['track'])\n",
    "\n",
    "print(\"Number of tracks:\", number_tracks)\n",
    "print(\"User of tracks:\", user_tracks)\n",
    "print(\"Total pages:\", total_pages)\n",
    "print(\"Per page:\", per_pages)\n",
    "#print(number_elements)\n",
    "#Varaible assigment how many page are based on limit records on one pages\n",
    "#For example when we have 450 tracks and we set limit 200 per page then show me 3 pages \n",
    "#Change string to intiger\n",
    "page_limit = int(total_pages)\n",
    "\n"
   ]
  },
  {
   "cell_type": "code",
   "execution_count": 10,
   "metadata": {},
   "outputs": [
    {
     "name": "stdout",
     "output_type": "stream",
     "text": [
      "Page 1: Number of tracks = 200: Completed\n",
      "Page 2: Number of tracks = 200: Completed\n",
      "Page 3: Number of tracks = 200: Completed\n",
      "Page 4: Number of tracks = 200: Completed\n",
      "Page 5: Number of tracks = 200: Completed\n",
      "Page 6: Number of tracks = 200: Completed\n",
      "Page 7: Number of tracks = 200: Completed\n",
      "Page 8: Number of tracks = 200: Completed\n",
      "Page 9: Number of tracks = 200: Completed\n",
      "Page 10: Number of tracks = 200: Completed\n",
      "Page 11: Number of tracks = 200: Completed\n",
      "Page 12: Number of tracks = 200: Completed\n",
      "Page 13: Number of tracks = 200: Completed\n",
      "Page 14: Number of tracks = 200: Completed\n",
      "Page 15: Number of tracks = 200: Completed\n",
      "Page 16: Number of tracks = 200: Completed\n",
      "Page 17: Number of tracks = 200: Completed\n",
      "Page 18: Number of tracks = 200: Completed\n",
      "Page 19: Number of tracks = 200: Completed\n",
      "Page 20: Number of tracks = 200: Completed\n"
     ]
    }
   ],
   "source": [
    "limit = 200\n",
    "\n",
    "recently_music = f\"http://ws.audioscrobbler.com/2.0/?method=user.getrecenttracks&api_key={last_key}&format=json&user={last_username}&limit={limit}&page=1\"\n",
    "r = requests.get(recently_music)\n",
    "data_recently_music = json.loads(r.text)\n",
    "\n",
    "total_pages = data_recently_music['recenttracks']['@attr']['totalPages']\n",
    "\n",
    "# sprawdzenie typu danych. okazalo sie ze jest to string\n",
    "#print(type(total_pages))\n",
    "\n",
    "my_data = []\n",
    "for page in range(1, int(total_pages) + 1):\n",
    "       recently_music = f\"http://ws.audioscrobbler.com/2.0/?method=user.getrecenttracks&api_key={last_key}&format=json&user={last_username}&limit={limit}&page={page}\"\n",
    "       print(f\"Page {page}: Number of tracks = {number_elements}: Completed\")\n",
    "       r = requests.get(recently_music)\n",
    "       data_recently_music = json.loads(r.text)\n",
    "      \n",
    "       for index, main in enumerate(data_recently_music['recenttracks']['track'], 1):\n",
    "         data = {\n",
    "             'artist': main['artist']['#text'],\n",
    "             'title': main['name'],\n",
    "             'album': main['album']['#text'],\n",
    "             'date': main['date']['#text'],\n",
    "             'url': main['url']\n",
    "         }\n",
    "         my_data.append(data)\n",
    "\n",
    "df = pd.DataFrame(my_data)\n",
    "df.to_csv('Data_Sources/lastfm_data.csv', index=False)"
   ]
  },
  {
   "cell_type": "code",
   "execution_count": 11,
   "metadata": {},
   "outputs": [],
   "source": [
    "# --- INFORMATION ABOUT USERNAME\n",
    "user_info = f\"http://ws.audioscrobbler.com/2.0/?method=user.getinfo&user=rj&api_key={last_key}&format=json&user={last_username}\"\n",
    "\n",
    "r = requests.get(user_info)\n",
    "#print(\"status:\", r)\n",
    "\n",
    "data_user_info = json.loads(r.text)\n",
    "#print(json.dumps(data_user_info, indent=2))"
   ]
  },
  {
   "cell_type": "code",
   "execution_count": 12,
   "metadata": {},
   "outputs": [
    {
     "data": {
      "text/html": [
       "<div>\n",
       "<style scoped>\n",
       "    .dataframe tbody tr th:only-of-type {\n",
       "        vertical-align: middle;\n",
       "    }\n",
       "\n",
       "    .dataframe tbody tr th {\n",
       "        vertical-align: top;\n",
       "    }\n",
       "\n",
       "    .dataframe thead th {\n",
       "        text-align: right;\n",
       "    }\n",
       "</style>\n",
       "<table border=\"1\" class=\"dataframe\">\n",
       "  <thead>\n",
       "    <tr style=\"text-align: right;\">\n",
       "      <th></th>\n",
       "      <th>user</th>\n",
       "      <th>playcount</th>\n",
       "      <th>track_count</th>\n",
       "      <th>artist_account</th>\n",
       "      <th>album_count</th>\n",
       "      <th>playlist</th>\n",
       "      <th>img_account</th>\n",
       "    </tr>\n",
       "  </thead>\n",
       "  <tbody>\n",
       "    <tr>\n",
       "      <th>0</th>\n",
       "      <td>tadeuszshelby</td>\n",
       "      <td>3950</td>\n",
       "      <td>1458</td>\n",
       "      <td>860</td>\n",
       "      <td>1246</td>\n",
       "      <td>0</td>\n",
       "      <td>https://lastfm.freetls.fastly.net/i/u/300x300/...</td>\n",
       "    </tr>\n",
       "  </tbody>\n",
       "</table>\n",
       "</div>"
      ],
      "text/plain": [
       "            user playcount track_count artist_account album_count playlist  \\\n",
       "0  tadeuszshelby      3950        1458            860        1246        0   \n",
       "\n",
       "                                         img_account  \n",
       "0  https://lastfm.freetls.fastly.net/i/u/300x300/...  "
      ]
     },
     "execution_count": 12,
     "metadata": {},
     "output_type": "execute_result"
    }
   ],
   "source": [
    "#print(json.dumps(data_user_info, indent=2))\n",
    "columns = ['user', 'playcount', 'track_count','artist_account', 'album_count', 'playlist', 'img_account']\n",
    "\n",
    "info_user = pd.DataFrame(columns = columns)\n",
    "\n",
    "user = data_user_info['user']['name']\n",
    "playcount = data_user_info['user']['playcount']\n",
    "artist_count = data_user_info['user']['artist_count']\n",
    "track_count = data_user_info['user']['track_count']\n",
    "album_count = data_user_info['user']['album_count']\n",
    "playlists = data_user_info['user']['playlists']\n",
    "img_account = data_user_info['user']['image'][3]['#text']\n",
    "\n",
    "df_userinfo = pd.DataFrame( \n",
    "    {'user': [user],\n",
    "    'playcount': [playcount],\n",
    "    'artist_account': [artist_count],\n",
    "    'track_count': [track_count],\n",
    "    'album_count': [album_count],\n",
    "    'playlist': [playlists],\n",
    "    'img_account': [img_account]\n",
    "    })\n",
    "\n",
    "info_user = pd.concat([info_user, df_userinfo])  \n",
    "info_user"
   ]
  }
 ],
 "metadata": {
  "kernelspec": {
   "display_name": "01_Spotify_Analysis",
   "language": "python",
   "name": "python3"
  },
  "language_info": {
   "codemirror_mode": {
    "name": "ipython",
    "version": 3
   },
   "file_extension": ".py",
   "mimetype": "text/x-python",
   "name": "python",
   "nbconvert_exporter": "python",
   "pygments_lexer": "ipython3",
   "version": "3.9.12"
  },
  "orig_nbformat": 4
 },
 "nbformat": 4,
 "nbformat_minor": 2
}
