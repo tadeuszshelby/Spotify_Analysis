{
 "cells": [
  {
   "cell_type": "code",
   "execution_count": 5,
   "metadata": {},
   "outputs": [],
   "source": [
    "import json\n",
    "import Creds\n",
    "import requests\n",
    "import pandas as pd\n",
    "import datetime\n",
    "import time\n",
    "import pytz\n",
    "import csv"
   ]
  },
  {
   "cell_type": "code",
   "execution_count": 7,
   "metadata": {},
   "outputs": [
    {
     "name": "stdout",
     "output_type": "stream",
     "text": [
      "If all informations show up that means we can go further\n"
     ]
    }
   ],
   "source": [
    "last_key = Creds.lastfm_api_key\n",
    "last_username = Creds.lastfm_username\n",
    "last_application_name = Creds.lastfm_application_name\n",
    "last_shared_secret = Creds.lastfm_api_secret\n",
    "last_registered_to = Creds.lastfm_username\n",
    "\n",
    "# --- USE VARIAVLES AS NEEDED\n",
    "# print(\"Last FM key:\", last_key )\n",
    "# print(\"Last FM usernamet:\", last_username)\n",
    "# print(\"Last FM application name:\", last_application_name)\n",
    "# print(\"Last FM shared secret:\", last_shared_secret)\n",
    "# print(\"Last FM registered to:\", last_registered_to)\n",
    "print(\"If all informations show up that means we can go further\")"
   ]
  },
  {
   "cell_type": "code",
   "execution_count": 8,
   "metadata": {},
   "outputs": [],
   "source": [
    "url =f\"http://ws.audioscrobbler.com/2.0/?method=artist.getinfo&artist=Cher&api_key={last_key}&format=json\"\n",
    "r = requests.get(url)\n",
    "#STATUS\n",
    "#print(\"status:\", r)\n",
    "data = json.loads(r.text)\n",
    "#print(json.dumps(data, indent=2))"
   ]
  },
  {
   "cell_type": "code",
   "execution_count": 10,
   "metadata": {},
   "outputs": [],
   "source": [
    "# --- GENERATE TOKEN IN LAST FM\n",
    "token_url = f\"http://ws.audioscrobbler.com/2.0/?method=auth.gettoken&api_key={last_key}&format=json\"\n",
    "\n",
    "r = requests.get(token_url)\n",
    "data_token = json.loads(r.text)\n",
    "#print(json.dumps(data_token, indent=2))\n",
    "#print(data_token['token'])"
   ]
  },
  {
   "cell_type": "code",
   "execution_count": 12,
   "metadata": {},
   "outputs": [],
   "source": [
    "# --- GENERATE TOP ARTISTS FROM LAST FM \n",
    "top_artist = f\"http://ws.audioscrobbler.com/2.0/?method=chart.gettopartists&api_key={last_key}&format=json\"\n",
    "\n",
    "r = requests.get(top_artist)\n",
    "#print(\"status:\", r)\n",
    "data_top_artists = json.loads(r.text)\n",
    "#FIRST ARTIST FROM TOP\n",
    "#print(json.dumps(data_top_artists['artists']['artist'][0], indent=2))"
   ]
  },
  {
   "cell_type": "code",
   "execution_count": 13,
   "metadata": {},
   "outputs": [
    {
     "name": "stdout",
     "output_type": "stream",
     "text": [
      "Number of tracks: 3950\n",
      "User of tracks: tadeuszshelby\n",
      "Total pages: 20\n",
      "Per page: 200\n"
     ]
    }
   ],
   "source": [
    "# --- SET PARAMETERS \n",
    "limit = 200\n",
    "page = 1\n",
    "\n",
    "# --- HOW MANY TRACKS WAS SCROBBLED IN YOUR LAST FM \n",
    "recently_music = f\"http://ws.audioscrobbler.com/2.0/?method=user.getrecenttracks&user=rj&api_key={last_key}&format=json&user={last_username}&limit={limit}&page={page}\"\n",
    "r = requests.get(recently_music)\n",
    "data_recently_music = json.loads(r.text)\n",
    "\n",
    "number_tracks = data_recently_music['recenttracks']['@attr']['total']\n",
    "user_tracks = data_recently_music['recenttracks']['@attr']['user']\n",
    "total_pages = data_recently_music['recenttracks']['@attr']['totalPages']\n",
    "per_pages = data_recently_music['recenttracks']['@attr']['perPage']\n",
    "number_elements = len(data_recently_music['recenttracks']['track'])\n",
    "\n",
    "print(\"Number of tracks:\", number_tracks)\n",
    "print(\"User of tracks:\", user_tracks)\n",
    "print(\"Total pages:\", total_pages)\n",
    "print(\"Per page:\", per_pages)\n",
    "#print(number_elements)\n",
    "#Varaible assigment how many page are based on limit records on one pages\n",
    "#For example when we have 450 tracks and we set limit 200 per page then show me 3 pages \n",
    "#Change string to intiger\n",
    "page_limit = int(total_pages)\n",
    "\n"
   ]
  }
 ],
 "metadata": {
  "kernelspec": {
   "display_name": "01_Spotify_Analysis",
   "language": "python",
   "name": "python3"
  },
  "language_info": {
   "codemirror_mode": {
    "name": "ipython",
    "version": 3
   },
   "file_extension": ".py",
   "mimetype": "text/x-python",
   "name": "python",
   "nbconvert_exporter": "python",
   "pygments_lexer": "ipython3",
   "version": "3.9.12"
  },
  "orig_nbformat": 4
 },
 "nbformat": 4,
 "nbformat_minor": 2
}
